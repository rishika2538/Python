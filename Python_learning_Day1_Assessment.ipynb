{
  "cells": [
    {
      "cell_type": "markdown",
      "metadata": {
        "id": "view-in-github",
        "colab_type": "text"
      },
      "source": [
        "<a href=\"https://colab.research.google.com/github/rishika2538/Python/blob/main/Python_learning_Day1_Assessment.ipynb\" target=\"_parent\"><img src=\"https://colab.research.google.com/assets/colab-badge.svg\" alt=\"Open In Colab\"/></a>"
      ]
    },
    {
      "cell_type": "markdown",
      "metadata": {
        "id": "eh5Ph74_HqpD"
      },
      "source": [
        "## how would you confimm that two strings have the same identity?"
      ]
    },
    {
      "cell_type": "code",
      "execution_count": 1,
      "metadata": {
        "colab": {
          "base_uri": "https://localhost:8080/"
        },
        "id": "oERbt__VktUg",
        "outputId": "3bde2201-7a23-46ea-e502-e5385e01eb8a"
      },
      "outputs": [
        {
          "output_type": "stream",
          "name": "stdout",
          "text": [
            "Enter the str1:Hello\n",
            "Enter the str2:Hello\n",
            "a and b have same identity\n"
          ]
        }
      ],
      "source": [
        "\n",
        "a=input(\"Enter the str1:\")\n",
        "b=input(\"Enter the str2:\")\n",
        "if a==b:\n",
        "  print(\"a and b have same identity\")\n",
        "else:\n",
        "  print(\"a and b don't have same identity\")"
      ]
    },
    {
      "cell_type": "markdown",
      "metadata": {
        "id": "xSfXJRgVHKOB"
      },
      "source": [
        "How to find the length and index of the string?"
      ]
    },
    {
      "cell_type": "code",
      "execution_count": 2,
      "metadata": {
        "colab": {
          "base_uri": "https://localhost:8080/"
        },
        "id": "cuEJ9hZ_S4df",
        "outputId": "b36da79e-c54c-4f29-e16b-7a739cb0a802"
      },
      "outputs": [
        {
          "output_type": "stream",
          "name": "stdout",
          "text": [
            "the length of the string: 11\n",
            "\n",
            "the index of substring is: 6\n"
          ]
        }
      ],
      "source": [
        "string=\"Hello world\"\n",
        "print(\"the length of the string:\",len(string))\n",
        "y=string.index('world')\n",
        "print(\"\\nthe index of substring is:\",y)"
      ]
    },
    {
      "cell_type": "markdown",
      "metadata": {
        "id": "EGK-LzalIO_i"
      },
      "source": [
        "## how to check a string contain a specific substring"
      ]
    },
    {
      "cell_type": "code",
      "execution_count": 3,
      "metadata": {
        "colab": {
          "base_uri": "https://localhost:8080/"
        },
        "id": "g1HYIC9gJ7Vi",
        "outputId": "fed6badd-1cd1-4dd5-f975-f9bdda484486"
      },
      "outputs": [
        {
          "output_type": "stream",
          "name": "stdout",
          "text": [
            "The string contains the substring 'World'\n"
          ]
        }
      ],
      "source": [
        "string_1 = \"Hello World!\"\n",
        "sub = \"World\"\n",
        "if sub in string_1:\n",
        "    print(f\"The string contains the substring '{sub}'\")\n",
        "else:\n",
        "    print(f\"The string does not contain the substring '{sub}'\")"
      ]
    },
    {
      "cell_type": "markdown",
      "metadata": {
        "id": "LmY6RXjoJF9h"
      },
      "source": [
        "## how to a take a string from backward with two step difference?\n"
      ]
    },
    {
      "cell_type": "code",
      "execution_count": 4,
      "metadata": {
        "colab": {
          "base_uri": "https://localhost:8080/"
        },
        "id": "_C_pqVqBJ8AA",
        "outputId": "68d18c2c-8255-4e28-b279-f8b10251c148"
      },
      "outputs": [
        {
          "output_type": "stream",
          "name": "stdout",
          "text": [
            "Original string: Rishika\n",
            "Result string: aisR\n"
          ]
        }
      ],
      "source": [
        "string_1 = \"Rishika\"\n",
        "\n",
        "result = string_1[::-2]\n",
        "\n",
        "print(\"Original string:\", string_1)\n",
        "print(\"Result string:\", result)"
      ]
    },
    {
      "cell_type": "markdown",
      "metadata": {
        "id": "7eg6JfyuJr_2"
      },
      "source": [
        "## how to find the index of the last element"
      ]
    },
    {
      "cell_type": "code",
      "execution_count": 5,
      "metadata": {
        "colab": {
          "base_uri": "https://localhost:8080/"
        },
        "id": "T84ODp77J8zR",
        "outputId": "fd47236a-b5ed-4e62-ed65-3526978d88f6"
      },
      "outputs": [
        {
          "output_type": "stream",
          "name": "stdout",
          "text": [
            "Index of the last element: 6\n"
          ]
        }
      ],
      "source": [
        "str1= \"welcome\"\n",
        "# Finding the index value of the last element of the string.\n",
        "index = len(str1) - 1\n",
        "print(\"Index of the last element:\",index)"
      ]
    },
    {
      "cell_type": "markdown",
      "metadata": {
        "id": "FTdxvLc1J0lv"
      },
      "source": [
        "## Write 2 ways to concatinate the string"
      ]
    },
    {
      "cell_type": "code",
      "execution_count": 6,
      "metadata": {
        "id": "j8P9ODeTJ9Zz",
        "colab": {
          "base_uri": "https://localhost:8080/"
        },
        "outputId": "7dd1b3e8-e09e-4ec4-cf6a-27f0714bc112"
      },
      "outputs": [
        {
          "output_type": "stream",
          "name": "stdout",
          "text": [
            "concatenation of two strings using + operator= Hello everyone welcome to the team Mind Masters\n"
          ]
        }
      ],
      "source": [
        "#case1\n",
        "string_a= \"Hello everyone\"\n",
        "string_b= \" welcome to the team Mind Masters\"\n",
        "\n",
        "print(\"concatenation of two strings using + operator=\",string_a + string_b)\n"
      ]
    },
    {
      "cell_type": "code",
      "source": [
        "#case2\n",
        "string_a = input(\"Enter the first string: \")\n",
        "string_b = input(\"Enter the second string: \")\n",
        "result = f'My name is {string_a} and I am from the team {string_b} '\n",
        "print(result)"
      ],
      "metadata": {
        "id": "Z1FpoamN-Wg8",
        "colab": {
          "base_uri": "https://localhost:8080/"
        },
        "outputId": "a9968dff-8eb3-4645-9550-a663535cc274"
      },
      "execution_count": 7,
      "outputs": [
        {
          "output_type": "stream",
          "name": "stdout",
          "text": [
            "Enter the first string: Rishika\n",
            "Enter the second string: Mind masters\n",
            "My name is Rishika and I am from the team Mind masters \n"
          ]
        }
      ]
    }
  ],
  "metadata": {
    "colab": {
      "provenance": [],
      "include_colab_link": true
    },
    "kernelspec": {
      "display_name": "Python 3",
      "name": "python3"
    },
    "language_info": {
      "name": "python"
    }
  },
  "nbformat": 4,
  "nbformat_minor": 0
}