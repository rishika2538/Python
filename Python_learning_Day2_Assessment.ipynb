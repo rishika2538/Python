{
  "nbformat": 4,
  "nbformat_minor": 0,
  "metadata": {
    "colab": {
      "provenance": [],
      "include_colab_link": true
    },
    "kernelspec": {
      "name": "python3",
      "display_name": "Python 3"
    },
    "language_info": {
      "name": "python"
    }
  },
  "cells": [
    {
      "cell_type": "markdown",
      "metadata": {
        "id": "view-in-github",
        "colab_type": "text"
      },
      "source": [
        "<a href=\"https://colab.research.google.com/github/rishika2538/Python/blob/main/Python_learning_Day2_Assessment.ipynb\" target=\"_parent\"><img src=\"https://colab.research.google.com/assets/colab-badge.svg\" alt=\"Open In Colab\"/></a>"
      ]
    },
    {
      "cell_type": "markdown",
      "source": [
        "## 1.Difference between the list and tuple?"
      ],
      "metadata": {
        "id": "HN6tCq60j2mQ"
      }
    },
    {
      "cell_type": "markdown",
      "source": [
        "List: Lists help store multiple items and then iterate over them using a loop. Because lists are dynamic, you can easily add or remove items anytime.Lists are mutable.\n",
        "\n",
        "Tuple: Tuples are ordered.Tuples are similar to lists. It also preserves the data sequence.Tuples are immutable."
      ],
      "metadata": {
        "id": "pUaN9NJLY1Tb"
      }
    },
    {
      "cell_type": "code",
      "source": [
        "# List example\n",
        "my_list = [1, 2, 3, 4, 5]\n",
        "print(my_list)\n",
        "\n",
        "# Tuple example\n",
        "my_tuple = (6, 7, 8)\n",
        "print(my_tuple)"
      ],
      "metadata": {
        "colab": {
          "base_uri": "https://localhost:8080/"
        },
        "id": "4T07H6A3bNs2",
        "outputId": "104a0307-5a2d-4884-ac7b-61a0b2145bed"
      },
      "execution_count": 33,
      "outputs": [
        {
          "output_type": "stream",
          "name": "stdout",
          "text": [
            "[1, 2, 3, 4, 5]\n",
            "(6, 7, 8)\n"
          ]
        }
      ]
    },
    {
      "cell_type": "markdown",
      "source": [
        "## 2.How list is different from an array"
      ],
      "metadata": {
        "id": "uWhJG7hzk6Ov"
      }
    },
    {
      "cell_type": "markdown",
      "source": [
        "List is an in-built data structure.List can store elements of different types.\n",
        "\n",
        "For an array, we need to import it from the array or numpy package.Arrays can store elements only of the same type."
      ],
      "metadata": {
        "id": "KncrRuabcvz9"
      }
    },
    {
      "cell_type": "code",
      "source": [
        "lst= [1,2,3,4,5]\n",
        "print(lst)\n",
        "\n",
        "import numpy as np\n",
        "my_array = np.array([1, 2, 3, 4, 5])\n",
        "print(my_array)"
      ],
      "metadata": {
        "colab": {
          "base_uri": "https://localhost:8080/"
        },
        "id": "QOKUgFuydCzT",
        "outputId": "0212dae8-9b00-4e44-a0e8-15034f1d7128"
      },
      "execution_count": 34,
      "outputs": [
        {
          "output_type": "stream",
          "name": "stdout",
          "text": [
            "[1, 2, 3, 4, 5]\n",
            "[1 2 3 4 5]\n"
          ]
        }
      ]
    },
    {
      "cell_type": "markdown",
      "source": [
        "## 3. Use the python list append(),copy(), clear, count, extends(), index(), insert(), pop(), reverse(), sort(), min(), max(),and sum()"
      ],
      "metadata": {
        "id": "_0Rn7JQSk6M1"
      }
    },
    {
      "cell_type": "code",
      "source": [
        "#append\n",
        "my_list = [2,3,4]\n",
        "my_list.append(1)\n",
        "print(\"after append:\",my_list)\n",
        "\n",
        "#copy\n",
        "my_list = [2,3,4]\n",
        "copied_list = list(my_list)\n",
        "print(\"Copied list:\", copied_list)\n",
        "\n",
        "#clear\n",
        "my_list = [2,3,4]\n",
        "my_list.clear()\n",
        "print(\"List after clearing:\", my_list)\n",
        "\n",
        "#count\n",
        "my_list = [1, 2, 2, 3, 2, 4, 5, 2]\n",
        "count_1 = my_list.count(2)\n",
        "print(\"count:\", count_1)\n",
        "\n",
        "#extends\n",
        "my_list = [1, 2, 3]\n",
        "a = [4, 5, 6]\n",
        "my_list.extend(a)\n",
        "print(\"Extended list:\", my_list)\n",
        "\n",
        "#index\n",
        "my_list = [10, 20, 30, 40, 50]\n",
        "a = my_list.index(30)\n",
        "print(\"Index:\", a)\n",
        "\n",
        "#insert\n",
        "my_list = [1, 2, 3, 4, 5]\n",
        "my_list.insert(2, 10)\n",
        "print(\"insert:\", my_list)\n",
        "\n",
        "#pop\n",
        "my_list = [1, 2, 3, 4, 5]\n",
        "a = my_list.pop()\n",
        "print(\"after pop:\",my_list)\n",
        "\n",
        "#reverse\n",
        "my_list = [1, 2, 3, 4, 5]\n",
        "my_list.reverse()\n",
        "print(\"Reversed list:\", my_list)\n",
        "\n",
        "#sort\n",
        "my_list = [3, 1, 4, 1, 5, 9]\n",
        "my_list.sort()\n",
        "print(\"Sorted list:\", my_list)\n",
        "\n",
        "#min\n",
        "my_list = [3, 1, 4, 1, 5, 9]\n",
        "m = min(my_list)\n",
        "print(\"Min:\", m)\n",
        "\n",
        "#max\n",
        "my_list = [3, 1, 4, 1, 5, 9]\n",
        "m = max(my_list)\n",
        "print(\"Max:\", m)\n",
        "\n",
        "#sum\n",
        "my_list = [1, 2, 3, 4, 5]\n",
        "total= sum(my_list)\n",
        "print(\"Sum:\", total)\n"
      ],
      "metadata": {
        "colab": {
          "base_uri": "https://localhost:8080/"
        },
        "id": "tWrMgJl5s381",
        "outputId": "30eeff62-f20d-4400-b724-778f4fdc742e"
      },
      "execution_count": 32,
      "outputs": [
        {
          "output_type": "stream",
          "name": "stdout",
          "text": [
            "after append: [2, 3, 4, 1]\n",
            "Copied list: [2, 3, 4]\n",
            "List after clearing: []\n",
            "count: 4\n",
            "Extended list: [1, 2, 3, 4, 5, 6]\n",
            "Index: 2\n",
            "insert: [1, 2, 10, 3, 4, 5]\n",
            "after pop: [1, 2, 3, 4]\n",
            "Reversed list: [5, 4, 3, 2, 1]\n",
            "Sorted list: [1, 1, 3, 4, 5, 9]\n",
            "Min: 1\n",
            "Max: 9\n",
            "Sum: 15\n"
          ]
        }
      ]
    },
    {
      "cell_type": "markdown",
      "source": [
        "## 4, How would you divide the list into two parts?"
      ],
      "metadata": {
        "id": "W9xfjUWak6J_"
      }
    },
    {
      "cell_type": "code",
      "source": [
        "#using slicing method\n",
        "my_list = ['apple', 'banana', 'orange', 'grape', 'pineapple']\n",
        "\n",
        "# Divide the list into two parts\n",
        "a = len(my_list) // 2\n",
        "first = my_list[:a]\n",
        "second = my_list[a:]\n",
        "print(first)\n",
        "print(second)"
      ],
      "metadata": {
        "colab": {
          "base_uri": "https://localhost:8080/"
        },
        "id": "q1VnGWoyeLS2",
        "outputId": "344e3c94-cede-462a-8b71-3371919c275d"
      },
      "execution_count": 7,
      "outputs": [
        {
          "output_type": "stream",
          "name": "stdout",
          "text": [
            "['apple', 'banana']\n",
            "['orange', 'grape', 'pineapple']\n"
          ]
        }
      ]
    },
    {
      "cell_type": "markdown",
      "source": [
        "## 5. how to filter the multiple of 3 from a given list and them remove the odd number from the new filtered list.\n"
      ],
      "metadata": {
        "id": "Qb1mVGfnk6G5"
      }
    },
    {
      "cell_type": "code",
      "source": [
        "original_list = [1, 2, 3, 4, 5, 6, 7, 8, 9, 10]\n",
        "\n",
        "# Filter multiples of 3\n",
        "a= list(filter(lambda x: x % 3 == 0, original_list))\n",
        "\n",
        "# Remove odd numbers\n",
        "filtered_list = list(filter(lambda x: x % 2 == 0, a))\n",
        "\n",
        "print(a)\n",
        "print(filtered_list)\n"
      ],
      "metadata": {
        "colab": {
          "base_uri": "https://localhost:8080/"
        },
        "id": "LDJEryhBhE_C",
        "outputId": "4bd855d8-7cbe-47bc-e603-a1e410f74248"
      },
      "execution_count": 10,
      "outputs": [
        {
          "output_type": "stream",
          "name": "stdout",
          "text": [
            "[3, 6, 9]\n",
            "[6]\n"
          ]
        }
      ]
    },
    {
      "cell_type": "markdown",
      "source": [
        "## 6. How you can access keys and values simultaneously and update its value"
      ],
      "metadata": {
        "id": "auhYyjixk6FD"
      }
    },
    {
      "cell_type": "code",
      "source": [
        "my_dict = {'a': 1, 'b': 2, 'c': 3}\n",
        "\n",
        "# Access keys and values\n",
        "for key, value in my_dict.items():\n",
        "    print(\"Key:\", key)\n",
        "    print(\"value:\",value)\n",
        "\n",
        "    my_dict[key] = value + 10\n",
        "\n",
        "print(\"Updated dictionary:\", my_dict)\n"
      ],
      "metadata": {
        "colab": {
          "base_uri": "https://localhost:8080/"
        },
        "id": "uKXV0C_KjI3H",
        "outputId": "db824633-f03a-425a-d834-5dd79cfed43d"
      },
      "execution_count": 12,
      "outputs": [
        {
          "output_type": "stream",
          "name": "stdout",
          "text": [
            "Key: a\n",
            "value: 1\n",
            "Key: b\n",
            "value: 2\n",
            "Key: c\n",
            "value: 3\n",
            "Updated dictionary: {'a': 11, 'b': 12, 'c': 13}\n"
          ]
        }
      ]
    },
    {
      "cell_type": "markdown",
      "source": [
        "## 7. Write python program to join, merge, concatente the two dictionaries..\n"
      ],
      "metadata": {
        "id": "vV00n0awk5_G"
      }
    },
    {
      "cell_type": "code",
      "source": [
        "dict1 = {'a': 1, 'b': 2}\n",
        "dict2 = {'c': 3, 'd': 4}\n",
        "\n",
        "# using the update() method\n",
        "dict1.update(dict2)\n",
        "\n",
        "print(\"Merged dictionary:\", dict1)\n"
      ],
      "metadata": {
        "colab": {
          "base_uri": "https://localhost:8080/"
        },
        "id": "AVv-RsyQkh4q",
        "outputId": "37d0d79a-2668-437a-bedd-86ff68bf8dc8"
      },
      "execution_count": 13,
      "outputs": [
        {
          "output_type": "stream",
          "name": "stdout",
          "text": [
            "Merged dictionary: {'a': 1, 'b': 2, 'c': 3, 'd': 4}\n"
          ]
        }
      ]
    },
    {
      "cell_type": "markdown",
      "source": [
        "## 8. How would you check a specific keys from the dictionary??\n"
      ],
      "metadata": {
        "id": "Z_7dpypWnQ-z"
      }
    },
    {
      "cell_type": "code",
      "source": [
        "my_dict = {'a': 1, 'b': 2, 'c': 3}\n",
        "\n",
        "#using the 'in' method\n",
        "key_a_exists = 'a' in my_dict\n",
        "key_d_exists = 'd' in my_dict\n",
        "\n",
        "print(\"Key 'a' exists\")\n",
        "print(\"Key 'd' exists\")\n",
        "\n"
      ],
      "metadata": {
        "colab": {
          "base_uri": "https://localhost:8080/"
        },
        "id": "MdfTEeAalTQs",
        "outputId": "3ac77f3f-b9f2-474c-ffe6-fc8c89bae2d4"
      },
      "execution_count": 16,
      "outputs": [
        {
          "output_type": "stream",
          "name": "stdout",
          "text": [
            "Key 'a' exists: \n",
            "Key 'd' exists: \n"
          ]
        }
      ]
    },
    {
      "cell_type": "markdown",
      "source": [
        "## 9. write a python program to find the unique vowel present in the sentence"
      ],
      "metadata": {
        "id": "EjxeB4ntnirH"
      }
    },
    {
      "cell_type": "code",
      "source": [
        "def unique_vowels(s):\n",
        "    vowels = 'aeiou'\n",
        "    a = set()\n",
        "\n",
        "    s = s.lower()\n",
        "\n",
        "    for vowel in vowels:\n",
        "\n",
        "        if vowel in s:\n",
        "            a.add(vowel)\n",
        "\n",
        "    return a\n",
        "\n",
        "s = \"Hello World! This is a sample sentence.\"\n",
        "a = unique_vowels(s)\n",
        "print(\"Unique vowels in the sentence:\",a)\n"
      ],
      "metadata": {
        "colab": {
          "base_uri": "https://localhost:8080/"
        },
        "id": "RKq60xninHy0",
        "outputId": "33524337-2616-46e5-b6a1-240ac323e1f9"
      },
      "execution_count": 17,
      "outputs": [
        {
          "output_type": "stream",
          "name": "stdout",
          "text": [
            "Unique vowels in the sentence: {'i', 'a', 'o', 'e'}\n"
          ]
        }
      ]
    },
    {
      "cell_type": "markdown",
      "source": [
        "## 10. We know that tuple is immutable, do any thing and add element to the tuples."
      ],
      "metadata": {
        "id": "B1VBImcfns6V"
      }
    },
    {
      "cell_type": "code",
      "source": [
        "tuple1 = (1, 2, 3)\n",
        "tuple2 = (4, 5, 6)\n",
        "\n",
        "# Concatenate tuples\n",
        "new_tuple = tuple1 + tuple2\n",
        "print(new_tuple)"
      ],
      "metadata": {
        "colab": {
          "base_uri": "https://localhost:8080/"
        },
        "id": "iRHoLEWwosmj",
        "outputId": "ac2d6470-813b-4575-eb42-3759fcd144a4"
      },
      "execution_count": 18,
      "outputs": [
        {
          "output_type": "stream",
          "name": "stdout",
          "text": [
            "(1, 2, 3, 4, 5, 6)\n"
          ]
        }
      ]
    },
    {
      "cell_type": "markdown",
      "source": [
        "## 11. How would you sum the list of tuple and sum of tuple of list\n",
        "list  = [(2,3),(4,5),(6,4)]\n",
        "output= [5,9,10]\n",
        "\n",
        "tuple  =([2,3],[4,5],[6,4])\n",
        "output  =  (5,9,10)"
      ],
      "metadata": {
        "id": "Yd7tDQHuoGFm"
      }
    },
    {
      "cell_type": "code",
      "source": [
        "list_of_tuples = [(2, 3), (4, 5), (6, 4)]\n",
        "\n",
        "# Using map() function\n",
        "result = list(map(sum, list_of_tuples))\n",
        "\n",
        "print(result)"
      ],
      "metadata": {
        "colab": {
          "base_uri": "https://localhost:8080/"
        },
        "id": "h0uCSJAJpW-i",
        "outputId": "26cf5327-c225-4260-cdcf-9e6af930076f"
      },
      "execution_count": 21,
      "outputs": [
        {
          "output_type": "stream",
          "name": "stdout",
          "text": [
            "[5, 9, 10]\n"
          ]
        }
      ]
    },
    {
      "cell_type": "code",
      "source": [
        "tuple_of_lists = ([2, 3], [4, 5], [6, 4])\n",
        "\n",
        "# Using map() function\n",
        "result = tuple(map(sum, tuple_of_lists))\n",
        "\n",
        "print(result)\n"
      ],
      "metadata": {
        "colab": {
          "base_uri": "https://localhost:8080/"
        },
        "id": "qxyec8fjrvy_",
        "outputId": "445a5bcc-c503-43f8-97ba-406932fa8ed3"
      },
      "execution_count": 22,
      "outputs": [
        {
          "output_type": "stream",
          "name": "stdout",
          "text": [
            "(5, 9, 10)\n"
          ]
        }
      ]
    },
    {
      "cell_type": "markdown",
      "source": [
        "## 12. FIND THE FREQUENCY OF THE KEYS IN THE GIVEN DICTIONARY"
      ],
      "metadata": {
        "id": "YiXg_vDpoq7X"
      }
    },
    {
      "cell_type": "code",
      "source": [
        "def key_frequency(dictionary):\n",
        "    frequency = {}\n",
        "\n",
        "    for key in dictionary:\n",
        "        if key in frequency:\n",
        "            frequency[key] += 1\n",
        "        else:\n",
        "            frequency[key] = 1\n",
        "    return frequency\n",
        "\n",
        "my_dict = {'a': 1, 'b': 2, 'c': 3, 'd': 2}\n",
        "frequency_count = key_frequency(my_dict)\n",
        "print(\"Frequency count of keys in the dictionary:\", frequency_count)\n"
      ],
      "metadata": {
        "colab": {
          "base_uri": "https://localhost:8080/"
        },
        "id": "xFno-TL5sN-R",
        "outputId": "a8875948-c047-45a0-e35b-87f2b1de032c"
      },
      "execution_count": 25,
      "outputs": [
        {
          "output_type": "stream",
          "name": "stdout",
          "text": [
            "Frequency count of keys in the dictionary: {'a': 1, 'b': 1, 'c': 1, 'd': 1}\n"
          ]
        }
      ]
    }
  ]
}